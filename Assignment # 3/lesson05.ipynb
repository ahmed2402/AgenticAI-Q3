{
 "cells": [
  {
   "cell_type": "markdown",
   "id": "57592cb1",
   "metadata": {},
   "source": [
    "## Ahmed Raza"
   ]
  },
  {
   "cell_type": "code",
   "execution_count": null,
   "id": "1a9456c6",
   "metadata": {},
   "outputs": [],
   "source": [
    "# Comparison Operators\n",
    "\n",
    "x = 10\n",
    "y = 15\n",
    "\n",
    "print(f\"x == y : {x == y}\")   # Equal to\n",
    "print(f\"x != y : {x != y}\")   # Not equal to\n",
    "print(f\"x > y  : {x > y}\")    # Greater than\n",
    "print(f\"x < y  : {x < y}\")    # Less than\n",
    "print(f\"x >= y : {x >= y}\")   # Greater than or equal to\n",
    "print(f\"x <= y : {x <= y}\")   # Less than or equal to"
   ]
  },
  {
   "cell_type": "code",
   "execution_count": null,
   "id": "35ed3847",
   "metadata": {},
   "outputs": [],
   "source": [
    "# Logical Operators\n",
    "\n",
    "a = True\n",
    "b = False\n",
    "\n",
    "print(f\"a and b : {a and b}\")\n",
    "print(f\"a or b  : {a or b}\")\n",
    "print(f\"not a   : {not a}\")"
   ]
  },
  {
   "cell_type": "code",
   "execution_count": null,
   "id": "4b5a9678",
   "metadata": {},
   "outputs": [],
   "source": [
    "# if-elif-else example\n",
    "\n",
    "age = int(input(\"Enter your age: \"))\n",
    "\n",
    "if age < 13:\n",
    "    print(\"You're a child.\")\n",
    "elif age < 20:\n",
    "    print(\"You're a teenager.\")\n",
    "elif age < 60:\n",
    "    print(\"You're an adult.\")\n",
    "else:\n",
    "    print(\"You're a senior.\")"
   ]
  },
  {
   "cell_type": "code",
   "execution_count": null,
   "id": "44ea0e9e",
   "metadata": {},
   "outputs": [],
   "source": [
    "# Simple Calculator\n",
    "\n",
    "num1 = float(input(\"Enter first number: \"))\n",
    "num2 = float(input(\"Enter second number: \"))\n",
    "operation = input(\"Choose operation (+, -, *, /, %, //, **): \").strip()\n",
    "\n",
    "if operation == \"+\":\n",
    "    print(f\"Result: {num1 + num2}\")\n",
    "elif operation == \"-\":\n",
    "    print(f\"Result: {num1 - num2}\")\n",
    "elif operation == \"*\":\n",
    "    print(f\"Result: {num1 * num2}\")\n",
    "elif operation == \"/\":\n",
    "    print(f\"Result: {num1 / num2}\")\n",
    "elif operation == \"%\":\n",
    "    print(f\"Result: {num1 % num2}\")\n",
    "elif operation == \"//\":\n",
    "    print(f\"Result: {num1 // num2}\")\n",
    "elif operation == \"**\":\n",
    "    print(f\"Result: {num1 ** num2}\")\n",
    "else:\n",
    "    print(\"Invalid operation!\")"
   ]
  },
  {
   "cell_type": "code",
   "execution_count": null,
   "id": "5f9f9f8a",
   "metadata": {},
   "outputs": [],
   "source": [
    "# Grading System\n",
    "\n",
    "marks = float(input(\"Enter your marks: \"))\n",
    "\n",
    "if marks >= 90:\n",
    "    grade = \"A+\"\n",
    "elif marks >= 80:\n",
    "    grade = \"A\"\n",
    "elif marks >= 70:\n",
    "    grade = \"B\"\n",
    "elif marks >= 60:\n",
    "    grade = \"C\"\n",
    "elif marks >= 50:\n",
    "    grade = \"D\"\n",
    "else:\n",
    "    grade = \"Fail\"\n",
    "\n",
    "print(f\"Your grade is: {grade}\")"
   ]
  },
  {
   "cell_type": "code",
   "execution_count": null,
   "id": "cd375357",
   "metadata": {},
   "outputs": [],
   "source": [
    "# match-case example\n",
    "\n",
    "language = input(\"Enter a programming language: \").strip().lower()\n",
    "\n",
    "match language:\n",
    "    case \"python\":\n",
    "        print(\"Great choice! 🐍\")\n",
    "    case \"java\":\n",
    "        print(\"Solid pick! ☕\")\n",
    "    case \"javascript\":\n",
    "        print(\"Nice, Web Dev wizard! 🧙‍♂️\")\n",
    "    case _:\n",
    "        print(\"Interesting choice!\")"
   ]
  },
  {
   "cell_type": "code",
   "execution_count": null,
   "id": "dbc40220",
   "metadata": {},
   "outputs": [],
   "source": [
    "# for loop example\n",
    "\n",
    "print(\"Counting from 1 to 5:\")\n",
    "for i in range(1, 6):\n",
    "    print(i)"
   ]
  },
  {
   "cell_type": "code",
   "execution_count": null,
   "id": "161ca75d",
   "metadata": {},
   "outputs": [],
   "source": [
    "# while loop example\n",
    "\n",
    "i = 1\n",
    "while i <= 5:\n",
    "    print(i)\n",
    "    i += 1"
   ]
  },
  {
   "cell_type": "code",
   "execution_count": null,
   "id": "31521737",
   "metadata": {},
   "outputs": [],
   "source": [
    "# break example\n",
    "\n",
    "i = 1\n",
    "while True:\n",
    "    if i > 5:\n",
    "        break\n",
    "    print(i)\n",
    "    i += 1"
   ]
  },
  {
   "cell_type": "code",
   "execution_count": null,
   "id": "8f46d20a",
   "metadata": {},
   "outputs": [],
   "source": [
    "# continue example\n",
    "\n",
    "for i in range(1, 6):\n",
    "    if i == 3:\n",
    "        continue\n",
    "    print(i)"
   ]
  },
  {
   "cell_type": "code",
   "execution_count": null,
   "id": "7803ae2a",
   "metadata": {},
   "outputs": [],
   "source": [
    "# Calculator using match-case\n",
    "\n",
    "num1 = float(input(\"Enter first number: \"))\n",
    "num2 = float(input(\"Enter second number: \"))\n",
    "operation = input(\"Enter operation (+, -, *, /): \")\n",
    "\n",
    "match operation:\n",
    "    case \"+\":\n",
    "        print(f\"Result: {num1 + num2}\")\n",
    "    case \"-\":\n",
    "        print(f\"Result: {num1 - num2}\")\n",
    "    case \"*\":\n",
    "        print(f\"Result: {num1 * num2}\")\n",
    "    case \"/\":\n",
    "        if num2 != 0:\n",
    "            print(f\"Result: {num1 / num2}\")\n",
    "        else:\n",
    "            print(\"Cannot divide by zero!\")\n",
    "    case _:\n",
    "        print(\"Invalid operation\")"
   ]
  },
  {
   "cell_type": "code",
   "execution_count": null,
   "id": "ba0f4033",
   "metadata": {},
   "outputs": [],
   "source": [
    "# Nested for loops\n",
    "\n",
    "for i in range(1, 4):\n",
    "    for j in range(1, 4):\n",
    "        print(f\"{i} * {j} = {i * j}\")\n",
    "    print(\"---\")"
   ]
  }
 ],
 "metadata": {
  "kernelspec": {
   "display_name": "base",
   "language": "python",
   "name": "python3"
  },
  "language_info": {
   "name": "python",
   "version": "3.12.7"
  }
 },
 "nbformat": 4,
 "nbformat_minor": 5
}
