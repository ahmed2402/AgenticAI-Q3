{
 "cells": [
  {
   "cell_type": "markdown",
   "metadata": {},
   "source": [
    "## Ahmed Raza - 00322903\n",
    "### Q3 (Monday 2-5) - Assignment Submission (Class 02 - March 03)\n",
    "##### Create a GitHub repository with simple code examples for each of the following Python operators"
   ]
  },
  {
   "cell_type": "code",
   "execution_count": null,
   "metadata": {},
   "outputs": [
    {
     "name": "stdout",
     "output_type": "stream",
     "text": [
      "a + b  =  22\n",
      "a - b  =  8\n",
      "a * b  =  105\n",
      "a / b  =  2.142857142857143\n",
      "a // b =  2\n",
      "a % b  =  1\n",
      "a % b  =  170859375\n"
     ]
    }
   ],
   "source": [
    "# Arithmetic operators\n",
    "a: int = 15\n",
    "b: int = 7\n",
    "print(\"a + b  = \", a + b)  \n",
    "print(\"a - b  = \", a - b)   \n",
    "print(\"a * b  = \", a * b)  \n",
    "print(\"a / b  = \", a / b)  \n",
    "print(\"a // b = \", a // b)  \n",
    "print(\"a % b  = \", a % b)   \n",
    "print(\"a % b  = \", a ** b)  "
   ]
  },
  {
   "cell_type": "code",
   "execution_count": 4,
   "metadata": {},
   "outputs": [
    {
     "name": "stdout",
     "output_type": "stream",
     "text": [
      "Assignment: x = 5                     5\n",
      "Addition Assignment: x += 3           8\n",
      "Subtraction Assignment: x -= 3        5\n",
      "Multiplication Assignment: x *= 3     15\n",
      "Division Assignment: x /= 3           5.0\n",
      "Floor Division Assignment: x //= 3    1.0\n"
     ]
    }
   ],
   "source": [
    "# Assignment operators\n",
    "x = 5\n",
    "print(\"Assignment: x = 5                    \",x)  # Output: 5\n",
    "\n",
    "x += 3  # Equivalent to x = x + 3\n",
    "print(\"Addition Assignment: x += 3          \",x)  # Output: 8\n",
    "\n",
    "x -= 3  # Equivalent to x = x - 3\n",
    "print(\"Subtraction Assignment: x -= 3       \",x)  # Output: 5\n",
    "\n",
    "x *= 3  # Equivalent to x = x * 3\n",
    "print(\"Multiplication Assignment: x *= 3    \",x)  # Output: 15\n",
    "\n",
    "x /= 3  # Equivalent to x = x / 3\n",
    "print(\"Division Assignment: x /= 3          \",x)  # Output: 5.0\n",
    "\n",
    "x //= 3  # Equivalent to x = x // 3\n",
    "print(\"Floor Division Assignment: x //= 3   \",x)  # Output: 1.0"
   ]
  },
  {
   "cell_type": "code",
   "execution_count": 5,
   "metadata": {},
   "outputs": [
    {
     "name": "stdout",
     "output_type": "stream",
     "text": [
      "x == y =  False\n",
      "x != y =  True\n",
      "x > y  =  True\n",
      "x < y  =  False\n",
      "x >= y =  True\n",
      "x <= y =  False\n"
     ]
    }
   ],
   "source": [
    "\n",
    "# Comparison operators\n",
    "x: int = 10\n",
    "y: int = 5\n",
    "\n",
    "print(\"x == y = \", x == y)  # False, Equal\n",
    "print(\"x != y = \", x != y)  # True, Not equal\n",
    "print(\"x > y  = \", x > y)   # True, Greater than\n",
    "print(\"x < y  = \", x < y)   # False, Less than\n",
    "print(\"x >= y = \", x >= y)  # True, Greater than or equal\n",
    "print(\"x <= y = \", x <= y)  # False, Less than or equal"
   ]
  },
  {
   "cell_type": "code",
   "execution_count": null,
   "metadata": {},
   "outputs": [
    {
     "name": "stdout",
     "output_type": "stream",
     "text": [
      "x and y =  False\n",
      "x or y  =  True\n",
      "not x   =  False\n"
     ]
    }
   ],
   "source": [
    "# Logical operators\n",
    "x: bool = True\n",
    "y: bool = False\n",
    "\n",
    "print(\"x and y = \", x and y)  # False\n",
    "print(\"x or y  = \", x or y)   # True\n",
    "print(\"not x   = \", not x)    # False"
   ]
  },
  {
   "cell_type": "code",
   "execution_count": null,
   "metadata": {},
   "outputs": [
    {
     "name": "stdout",
     "output_type": "stream",
     "text": [
      "True\n",
      "False\n",
      "140731971339304\n",
      "140731971339336\n",
      "140731971339304\n"
     ]
    }
   ],
   "source": [
    "# Identity operators\n",
    "# is keyword : returns true if two objects/list/dict share the same memory location\n",
    "# where as == checks only if 2 variable have the sem values if yes then it return true\n",
    "#note: if the data type is not an object then it will give true for both\n",
    "a:dict = 5\n",
    "b:dict = 6\n",
    "c:dict = a\n",
    "\n",
    "print(a is c) #true\n",
    "print(b is a) #false\n",
    "print(id(a))\n",
    "print(id(b))\n",
    "print(id(c))"
   ]
  },
  {
   "cell_type": "code",
   "execution_count": null,
   "metadata": {},
   "outputs": [],
   "source": [
    "# Membership operators\n",
    "my_list: list = [1, 2, 3, 4, 5]\n",
    "\n",
    "print(\"my_list           = \", my_list)            # [1, 2, 3, 4, 5]\n",
    "print(\"3 in my_list      = \", 3 in my_list)       # True\n",
    "print(\"10 not in my_list = \", 10 not in my_list)  # True\n",
    "\n",
    "print(\"\\n-----\\n\")\n",
    "\n",
    "my_string: str = \"Operation Badar\"\n",
    "\n",
    "print(\"my_string                 = \", my_string)                # Operation Badar\n",
    "print(\"'O' in my_string          = \", 'O' in my_string)         # True\n",
    "print(\"'Hello' not in my_string  = \", 'Hello' not in my_string) # True"
   ]
  },
  {
   "cell_type": "code",
   "execution_count": 37,
   "metadata": {},
   "outputs": [
    {
     "name": "stdout",
     "output_type": "stream",
     "text": [
      "5 & 3 = 1\n",
      "5 | 3 = 7\n",
      "5 ^ 3 = 6\n",
      "~5 = -6\n"
     ]
    }
   ],
   "source": [
    "# # Bitwise operators\n",
    "# Operator\tSymbol\tDescription\n",
    "# AND\t&\tSets each bit to 1 if both bits are 1\n",
    "# OR\t`\t`\n",
    "# XOR\t^\tSets each bit to 1 if only one of the bits is 1\n",
    "# NOT\t~\tInverts all bits (bitwise negation)\n",
    "\n",
    "# Bitwise Operators in Python\n",
    "\n",
    "a = 5  # 0101 (Binary)\n",
    "b = 3  # 0011 (Binary)\n",
    "\n",
    "# Bitwise AND (&)\n",
    "and_result = a & b  # 0001 -> 1\n",
    "print(f\"{a} & {b} = {and_result}\")\n",
    "\n",
    "# Bitwise OR (|)\n",
    "or_result = a | b  # 0111 -> 7\n",
    "print(f\"{a} | {b} = {or_result}\")\n",
    "\n",
    "# Bitwise XOR (^)\n",
    "xor_result = a ^ b  # 0110 -> 6\n",
    "print(f\"{a} ^ {b} = {xor_result}\")\n",
    "\n",
    "# Bitwise NOT (~)\n",
    "not_a = ~a  # Two's complement: -(5+1) = -6\n",
    "print(f\"~{a} = {not_a}\")\n",
    "\n"
   ]
  }
 ],
 "metadata": {
  "kernelspec": {
   "display_name": "Python 3",
   "language": "python",
   "name": "python3"
  },
  "language_info": {
   "codemirror_mode": {
    "name": "ipython",
    "version": 3
   },
   "file_extension": ".py",
   "mimetype": "text/x-python",
   "name": "python",
   "nbconvert_exporter": "python",
   "pygments_lexer": "ipython3",
   "version": "3.13.2"
  }
 },
 "nbformat": 4,
 "nbformat_minor": 2
}
